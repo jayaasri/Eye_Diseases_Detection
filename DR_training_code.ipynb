{
  "cells": [
    {
      "cell_type": "code",
      "execution_count": null,
      "metadata": {
        "colab": {
          "base_uri": "https://localhost:8080/"
        },
        "id": "HNJHFdlru-_O",
        "outputId": "d654560d-8e88-46c5-d82d-218f1f7a0be4"
      },
      "outputs": [
        {
          "output_type": "stream",
          "name": "stdout",
          "text": [
            "Number of images in '/content/drive/MyDrive/DR/dataset_full': 5000\n",
            "Number of entries in '/content/drive/MyDrive/DR/Full_cleaned_final.csv': 5000\n"
          ]
        }
      ],
      "source": [
        "import os\n",
        "import pandas as pd\n",
        "\n",
        "# Path to the new combined dataset folder and CSV file\n",
        "combined_folder = \"/content/drive/MyDrive/DR/dataset_full\"\n",
        "combined_csv = \"/content/drive/MyDrive/DR/Full_cleaned_final.csv\"\n",
        "\n",
        "# Count the number of images in the folder\n",
        "num_images = len([f for f in os.listdir(combined_folder)])\n",
        "\n",
        "# Check if CSV exists and count its entries\n",
        "if os.path.exists(combined_csv):\n",
        "    df_combined = pd.read_csv(combined_csv)\n",
        "    num_entries = len(df_combined)\n",
        "else:\n",
        "    num_entries = 0\n",
        "\n",
        "# Print the results\n",
        "print(f\"Number of images in '{combined_folder}': {num_images}\")\n",
        "print(f\"Number of entries in '{combined_csv}': {num_entries}\")\n"
      ]
    },
    {
      "cell_type": "code",
      "execution_count": null,
      "metadata": {
        "id": "foP4yLq-zeoL"
      },
      "outputs": [],
      "source": [
        "from google.colab import drive\n",
        "import torch\n",
        "import pandas as pd\n",
        "import os\n",
        "from torchvision import transforms\n",
        "from torch.utils.data import Dataset, DataLoader, random_split\n",
        "from PIL import Image\n",
        "from transformers import ViTForImageClassification\n",
        "from torch.optim import AdamW\n",
        "\n",
        "from sklearn.model_selection import train_test_split\n",
        "from sklearn.metrics import accuracy_score\n",
        "from tqdm import tqdm\n",
        "\n",
        "\n",
        "# Define device (GPU or CPU)\n",
        "device = torch.device(\"cuda\" if torch.cuda.is_available() else \"cpu\")\n",
        "\n",
        "# Define dataset paths\n",
        "image_folder = \"/content/drive/MyDrive/DR/dataset_full\"  # Folder containing images\n",
        "csv_file = \"/content/drive/MyDrive/DR/Full_cleaned_final.csv\"  # CSV with image names & labels\n",
        "model_save_path = \"/content/drive/MyDrive/saved_models_final\"  # Folder to save models\n",
        "os.makedirs(model_save_path, exist_ok=True)  # Create if not exists\n",
        "\n",
        "# Load CSV file\n",
        "df = pd.read_csv(csv_file)  # Assumes 'id_code' and 'diagnosis' columns\n",
        "df['id_code'] = df['id_code'].apply(lambda x: os.path.join(image_folder, x + \".png\"))  # Construct full image path\n",
        "\n",
        "\n"
      ]
    },
    {
      "cell_type": "code",
      "execution_count": null,
      "metadata": {
        "colab": {
          "base_uri": "https://localhost:8080/"
        },
        "id": "LBmQT_QEziwN",
        "outputId": "c894d65f-0284-4ab4-b927-9e028963ba4c"
      },
      "outputs": [
        {
          "output_type": "stream",
          "name": "stdout",
          "text": [
            "Number of Classes: 5\n",
            "Train Samples: 4000 | Test Samples: 1000\n"
          ]
        },
        {
          "output_type": "stream",
          "name": "stderr",
          "text": [
            "Some weights of ViTForImageClassification were not initialized from the model checkpoint at google/vit-base-patch16-224-in21k and are newly initialized: ['classifier.bias', 'classifier.weight']\n",
            "You should probably TRAIN this model on a down-stream task to be able to use it for predictions and inference.\n"
          ]
        },
        {
          "output_type": "execute_result",
          "data": {
            "text/plain": [
              "ViTForImageClassification(\n",
              "  (vit): ViTModel(\n",
              "    (embeddings): ViTEmbeddings(\n",
              "      (patch_embeddings): ViTPatchEmbeddings(\n",
              "        (projection): Conv2d(3, 768, kernel_size=(16, 16), stride=(16, 16))\n",
              "      )\n",
              "      (dropout): Dropout(p=0.0, inplace=False)\n",
              "    )\n",
              "    (encoder): ViTEncoder(\n",
              "      (layer): ModuleList(\n",
              "        (0-11): 12 x ViTLayer(\n",
              "          (attention): ViTAttention(\n",
              "            (attention): ViTSelfAttention(\n",
              "              (query): Linear(in_features=768, out_features=768, bias=True)\n",
              "              (key): Linear(in_features=768, out_features=768, bias=True)\n",
              "              (value): Linear(in_features=768, out_features=768, bias=True)\n",
              "            )\n",
              "            (output): ViTSelfOutput(\n",
              "              (dense): Linear(in_features=768, out_features=768, bias=True)\n",
              "              (dropout): Dropout(p=0.0, inplace=False)\n",
              "            )\n",
              "          )\n",
              "          (intermediate): ViTIntermediate(\n",
              "            (dense): Linear(in_features=768, out_features=3072, bias=True)\n",
              "            (intermediate_act_fn): GELUActivation()\n",
              "          )\n",
              "          (output): ViTOutput(\n",
              "            (dense): Linear(in_features=3072, out_features=768, bias=True)\n",
              "            (dropout): Dropout(p=0.0, inplace=False)\n",
              "          )\n",
              "          (layernorm_before): LayerNorm((768,), eps=1e-12, elementwise_affine=True)\n",
              "          (layernorm_after): LayerNorm((768,), eps=1e-12, elementwise_affine=True)\n",
              "        )\n",
              "      )\n",
              "    )\n",
              "    (layernorm): LayerNorm((768,), eps=1e-12, elementwise_affine=True)\n",
              "  )\n",
              "  (classifier): Linear(in_features=768, out_features=5, bias=True)\n",
              ")"
            ]
          },
          "metadata": {},
          "execution_count": 24
        }
      ],
      "source": [
        "# Define train-test split (80-20)\n",
        "train_df, test_df = train_test_split(df, test_size=0.2, stratify=df['diagnosis'], random_state=42)\n",
        "\n",
        "# Define image transformations\n",
        "transform = transforms.Compose([\n",
        "    transforms.Resize((224, 224)),\n",
        "    transforms.ToTensor(),\n",
        "    transforms.Normalize(mean=[0.5, 0.5, 0.5], std=[0.5, 0.5, 0.5])\n",
        "])\n",
        "\n",
        "# Custom Dataset Class\n",
        "class EyeDataset(Dataset):\n",
        "    def __init__(self, dataframe, transform=None):\n",
        "        self.dataframe = dataframe\n",
        "        self.transform = transform\n",
        "\n",
        "    def __len__(self):\n",
        "        return len(self.dataframe)\n",
        "\n",
        "    def __getitem__(self, idx):\n",
        "        img_path = self.dataframe.iloc[idx, 0]  # Image path\n",
        "        label = int(self.dataframe.iloc[idx, 1])  # Diagnosis label\n",
        "\n",
        "        image = Image.open(img_path).convert('RGB')\n",
        "\n",
        "        if self.transform:\n",
        "            image = self.transform(image)\n",
        "\n",
        "        return image, label\n",
        "\n",
        "# Create dataset instances\n",
        "train_dataset = EyeDataset(train_df, transform=transform)\n",
        "test_dataset = EyeDataset(test_df, transform=transform)\n",
        "\n",
        "# Create DataLoaders\n",
        "batch_size = 16\n",
        "train_loader = DataLoader(train_dataset, batch_size=batch_size, shuffle=True, num_workers=2)\n",
        "test_loader = DataLoader(test_dataset, batch_size=batch_size, shuffle=False, num_workers=2)\n",
        "\n",
        "# Print dataset info\n",
        "print(\"Number of Classes:\", len(df['diagnosis'].unique()))\n",
        "print(\"Train Samples:\", len(train_dataset), \"| Test Samples:\", len(test_dataset))\n",
        "\n",
        "# Load Pretrained ViT Model\n",
        "model = ViTForImageClassification.from_pretrained(\n",
        "    'google/vit-base-patch16-224-in21k',\n",
        "    num_labels=len(df['diagnosis'].unique())\n",
        ")\n",
        "model.to(device)\n"
      ]
    },
    {
      "cell_type": "code",
      "execution_count": null,
      "metadata": {
        "colab": {
          "base_uri": "https://localhost:8080/"
        },
        "id": "oUavy9Ryz_dC",
        "outputId": "0b374f26-9b34-4de0-b963-08799f178f08"
      },
      "outputs": [
        {
          "output_type": "stream",
          "name": "stdout",
          "text": [
            "\n",
            "🔄 Epoch 1/15 - Training...\n"
          ]
        },
        {
          "output_type": "stream",
          "name": "stderr",
          "text": [
            "Training: 100%|██████████| 250/250 [27:12<00:00,  6.53s/it]\n"
          ]
        },
        {
          "output_type": "stream",
          "name": "stdout",
          "text": [
            "\n",
            "📊 Epoch 1: Train Accuracy: 66.83% | Avg Loss: 0.9008\n",
            "💾 Model saved at: /content/drive/MyDrive/saved_models_final/model_epoch_1.pth\n",
            "\n",
            "🔄 Epoch 2/15 - Training...\n"
          ]
        },
        {
          "output_type": "stream",
          "name": "stderr",
          "text": [
            "Training: 100%|██████████| 250/250 [05:14<00:00,  1.26s/it]\n"
          ]
        },
        {
          "output_type": "stream",
          "name": "stdout",
          "text": [
            "\n",
            "📊 Epoch 2: Train Accuracy: 76.58% | Avg Loss: 0.6292\n",
            "💾 Model saved at: /content/drive/MyDrive/saved_models_final/model_epoch_2.pth\n",
            "\n",
            "🔄 Epoch 3/15 - Training...\n"
          ]
        },
        {
          "output_type": "stream",
          "name": "stderr",
          "text": [
            "Training: 100%|██████████| 250/250 [05:16<00:00,  1.27s/it]\n"
          ]
        },
        {
          "output_type": "stream",
          "name": "stdout",
          "text": [
            "\n",
            "📊 Epoch 3: Train Accuracy: 82.95% | Avg Loss: 0.4785\n",
            "💾 Model saved at: /content/drive/MyDrive/saved_models_final/model_epoch_3.pth\n",
            "\n",
            "🔄 Epoch 4/15 - Training...\n"
          ]
        },
        {
          "output_type": "stream",
          "name": "stderr",
          "text": [
            "Training: 100%|██████████| 250/250 [05:14<00:00,  1.26s/it]\n"
          ]
        },
        {
          "output_type": "stream",
          "name": "stdout",
          "text": [
            "\n",
            "📊 Epoch 4: Train Accuracy: 88.00% | Avg Loss: 0.3590\n",
            "💾 Model saved at: /content/drive/MyDrive/saved_models_final/model_epoch_4.pth\n",
            "\n",
            "🔄 Epoch 5/15 - Training...\n"
          ]
        },
        {
          "output_type": "stream",
          "name": "stderr",
          "text": [
            "Training: 100%|██████████| 250/250 [05:15<00:00,  1.26s/it]\n"
          ]
        },
        {
          "output_type": "stream",
          "name": "stdout",
          "text": [
            "\n",
            "📊 Epoch 5: Train Accuracy: 91.95% | Avg Loss: 0.2548\n",
            "💾 Model saved at: /content/drive/MyDrive/saved_models_final/model_epoch_5.pth\n",
            "\n",
            "🔄 Epoch 6/15 - Training...\n"
          ]
        },
        {
          "output_type": "stream",
          "name": "stderr",
          "text": [
            "Training: 100%|██████████| 250/250 [05:13<00:00,  1.25s/it]\n"
          ]
        },
        {
          "output_type": "stream",
          "name": "stdout",
          "text": [
            "\n",
            "📊 Epoch 6: Train Accuracy: 94.47% | Avg Loss: 0.1805\n",
            "💾 Model saved at: /content/drive/MyDrive/saved_models_final/model_epoch_6.pth\n",
            "\n",
            "🔄 Epoch 7/15 - Training...\n"
          ]
        },
        {
          "output_type": "stream",
          "name": "stderr",
          "text": [
            "Training: 100%|██████████| 250/250 [05:14<00:00,  1.26s/it]\n"
          ]
        },
        {
          "output_type": "stream",
          "name": "stdout",
          "text": [
            "\n",
            "📊 Epoch 7: Train Accuracy: 96.12% | Avg Loss: 0.1339\n",
            "💾 Model saved at: /content/drive/MyDrive/saved_models_final/model_epoch_7.pth\n",
            "\n",
            "🔄 Epoch 8/15 - Training...\n"
          ]
        },
        {
          "output_type": "stream",
          "name": "stderr",
          "text": [
            "Training: 100%|██████████| 250/250 [05:15<00:00,  1.26s/it]\n"
          ]
        },
        {
          "output_type": "stream",
          "name": "stdout",
          "text": [
            "\n",
            "📊 Epoch 8: Train Accuracy: 97.08% | Avg Loss: 0.1002\n",
            "💾 Model saved at: /content/drive/MyDrive/saved_models_final/model_epoch_8.pth\n",
            "\n",
            "🔄 Epoch 9/15 - Training...\n"
          ]
        },
        {
          "output_type": "stream",
          "name": "stderr",
          "text": [
            "Training: 100%|██████████| 250/250 [05:14<00:00,  1.26s/it]\n"
          ]
        },
        {
          "output_type": "stream",
          "name": "stdout",
          "text": [
            "\n",
            "📊 Epoch 9: Train Accuracy: 96.88% | Avg Loss: 0.0974\n",
            "💾 Model saved at: /content/drive/MyDrive/saved_models_final/model_epoch_9.pth\n",
            "\n",
            "🔄 Epoch 10/15 - Training...\n"
          ]
        },
        {
          "output_type": "stream",
          "name": "stderr",
          "text": [
            "Training: 100%|██████████| 250/250 [05:15<00:00,  1.26s/it]\n"
          ]
        },
        {
          "output_type": "stream",
          "name": "stdout",
          "text": [
            "\n",
            "📊 Epoch 10: Train Accuracy: 98.75% | Avg Loss: 0.0517\n",
            "💾 Model saved at: /content/drive/MyDrive/saved_models_final/model_epoch_10.pth\n",
            "\n",
            "🔄 Epoch 11/15 - Training...\n"
          ]
        },
        {
          "output_type": "stream",
          "name": "stderr",
          "text": [
            "Training: 100%|██████████| 250/250 [05:13<00:00,  1.25s/it]\n"
          ]
        },
        {
          "output_type": "stream",
          "name": "stdout",
          "text": [
            "\n",
            "📊 Epoch 11: Train Accuracy: 97.12% | Avg Loss: 0.0844\n",
            "💾 Model saved at: /content/drive/MyDrive/saved_models_final/model_epoch_11.pth\n",
            "\n",
            "🔄 Epoch 12/15 - Training...\n"
          ]
        },
        {
          "output_type": "stream",
          "name": "stderr",
          "text": [
            "Training: 100%|██████████| 250/250 [05:12<00:00,  1.25s/it]\n"
          ]
        },
        {
          "output_type": "stream",
          "name": "stdout",
          "text": [
            "\n",
            "📊 Epoch 12: Train Accuracy: 97.67% | Avg Loss: 0.0686\n",
            "💾 Model saved at: /content/drive/MyDrive/saved_models_final/model_epoch_12.pth\n",
            "\n",
            "🔄 Epoch 13/15 - Training...\n"
          ]
        },
        {
          "output_type": "stream",
          "name": "stderr",
          "text": [
            "Training: 100%|██████████| 250/250 [05:13<00:00,  1.25s/it]\n"
          ]
        },
        {
          "output_type": "stream",
          "name": "stdout",
          "text": [
            "\n",
            "📊 Epoch 13: Train Accuracy: 98.12% | Avg Loss: 0.0627\n",
            "💾 Model saved at: /content/drive/MyDrive/saved_models_final/model_epoch_13.pth\n",
            "\n",
            "🔄 Epoch 14/15 - Training...\n"
          ]
        },
        {
          "output_type": "stream",
          "name": "stderr",
          "text": [
            "Training: 100%|██████████| 250/250 [05:13<00:00,  1.26s/it]\n"
          ]
        },
        {
          "output_type": "stream",
          "name": "stdout",
          "text": [
            "\n",
            "📊 Epoch 14: Train Accuracy: 97.83% | Avg Loss: 0.0588\n",
            "💾 Model saved at: /content/drive/MyDrive/saved_models_final/model_epoch_14.pth\n",
            "\n",
            "🔄 Epoch 15/15 - Training...\n"
          ]
        },
        {
          "output_type": "stream",
          "name": "stderr",
          "text": [
            "Training: 100%|██████████| 250/250 [05:14<00:00,  1.26s/it]\n"
          ]
        },
        {
          "output_type": "stream",
          "name": "stdout",
          "text": [
            "\n",
            "📊 Epoch 15: Train Accuracy: 97.03% | Avg Loss: 0.0808\n",
            "💾 Model saved at: /content/drive/MyDrive/saved_models_final/model_epoch_15.pth\n",
            "\n",
            "🎉 Training Completed! Best Train Accuracy: 98.75% at Epoch 10\n"
          ]
        }
      ],
      "source": [
        "# Define Optimizer and Loss Function\n",
        "optimizer = AdamW(model.parameters(), lr=5e-5)\n",
        "criterion = torch.nn.CrossEntropyLoss()\n",
        "\n",
        "# Training Loop\n",
        "num_epochs = 15  # Train for 10 epochs\n",
        "best_train_acc = 0.0\n",
        "best_epoch = 0\n",
        "\n",
        "for epoch in range(num_epochs):\n",
        "    model.train()\n",
        "    running_loss, correct_train = 0.0, 0\n",
        "    all_preds, all_labels = [], []\n",
        "\n",
        "    print(f\"\\n🔄 Epoch {epoch + 1}/{num_epochs} - Training...\")\n",
        "    for inputs, labels in tqdm(train_loader, desc=\"Training\"):\n",
        "        inputs, labels = inputs.to(device), labels.to(device)\n",
        "\n",
        "        # Forward pass\n",
        "        outputs = model(inputs)\n",
        "        loss = criterion(outputs.logits, labels)\n",
        "\n",
        "        # Backward pass\n",
        "        optimizer.zero_grad()\n",
        "        loss.backward()\n",
        "        optimizer.step()\n",
        "\n",
        "        running_loss += loss.item()\n",
        "        _, preds = torch.max(outputs.logits, 1)\n",
        "        correct_train += (preds == labels).sum().item()\n",
        "\n",
        "        # Store predictions for accuracy calculation\n",
        "        all_preds.extend(preds.cpu().numpy())\n",
        "        all_labels.extend(labels.cpu().numpy())\n",
        "\n",
        "    train_acc = 100 * correct_train / len(train_dataset)\n",
        "    avg_train_loss = running_loss / len(train_loader)\n",
        "\n",
        "    print(f\"\\n📊 Epoch {epoch+1}: Train Accuracy: {train_acc:.2f}% | Avg Loss: {avg_train_loss:.4f}\")\n",
        "\n",
        "    # Track best epoch\n",
        "    if train_acc > best_train_acc:\n",
        "        best_train_acc = train_acc\n",
        "        best_epoch = epoch + 1\n",
        "\n",
        "    # Save model for each epoch\n",
        "    model_path = os.path.join(model_save_path, f\"model_epoch_{epoch+1}.pth\")\n",
        "    torch.save(model.state_dict(), model_path)\n",
        "    print(f\"💾 Model saved at: {model_path}\")\n",
        "\n",
        "# Final Summary\n",
        "print(f\"\\n🎉 Training Completed! Best Train Accuracy: {best_train_acc:.2f}% at Epoch {best_epoch}\")\n"
      ]
    },
    {
      "cell_type": "code",
      "execution_count": null,
      "metadata": {
        "colab": {
          "base_uri": "https://localhost:8080/"
        },
        "outputId": "474d4425-418a-4cae-8801-203ad4469536",
        "id": "7taasDOliqTH"
      },
      "outputs": [
        {
          "name": "stdout",
          "output_type": "stream",
          "text": [
            "\n",
            "🔍 Evaluating on Test Set...\n"
          ]
        },
        {
          "name": "stderr",
          "output_type": "stream",
          "text": [
            "Testing: 100%|██████████| 368/368 [09:16<00:00,  1.51s/it]"
          ]
        },
        {
          "name": "stdout",
          "output_type": "stream",
          "text": [
            "\n",
            "✅ Test Accuracy: 92.87%\n"
          ]
        },
        {
          "name": "stderr",
          "output_type": "stream",
          "text": [
            "\n"
          ]
        }
      ],
      "source": [
        "import torch\n",
        "from tqdm import tqdm\n",
        "from sklearn.metrics import accuracy_score\n",
        "\n",
        "# Load the best model\n",
        "model.load_state_dict(torch.load(\"/content/drive/MyDrive/saved_models/model_epoch_9.pth\", map_location=device))\n",
        "model.eval()  # Set model to evaluation mode\n",
        "\n",
        "# Ensure CUDA memory is cleared\n",
        "torch.cuda.empty_cache()\n",
        "\n",
        "# Define test DataLoader (reduce num_workers)\n",
        "test_loader = DataLoader(test_dataset, batch_size=16, shuffle=False, num_workers=0)\n",
        "\n",
        "# Evaluate on Test Set\n",
        "print(\"\\n🔍 Evaluating on Test Set...\")\n",
        "all_preds, all_labels = [], []\n",
        "\n",
        "with torch.no_grad():\n",
        "    for images, labels in tqdm(test_loader, desc=\"Testing\"):\n",
        "        images, labels = images.to(device), labels.to(device)\n",
        "\n",
        "        # Forward pass\n",
        "        outputs = model(images)\n",
        "        _, preds = torch.max(outputs.logits, 1)\n",
        "\n",
        "        all_preds.extend(preds.cpu().numpy())\n",
        "        all_labels.extend(labels.cpu().numpy())\n",
        "\n",
        "# Compute Test Accuracy\n",
        "test_acc = accuracy_score(all_labels, all_preds)\n",
        "print(f\"\\n✅ Test Accuracy: {test_acc * 100:.2f}%\")\n"
      ]
    },
    {
      "cell_type": "code",
      "execution_count": null,
      "metadata": {
        "colab": {
          "base_uri": "https://localhost:8080/",
          "height": 1000
        },
        "id": "YSFfh4IMLPgS",
        "outputId": "e5a9f266-64a6-490b-aa97-a28245372bbe"
      },
      "outputs": [
        {
          "output_type": "stream",
          "name": "stdout",
          "text": [
            "\n",
            "🔍 Evaluating on Test Set...\n"
          ]
        },
        {
          "output_type": "stream",
          "name": "stderr",
          "text": [
            "Testing: 100%|██████████| 63/63 [01:29<00:00,  1.42s/it]\n"
          ]
        },
        {
          "output_type": "stream",
          "name": "stdout",
          "text": [
            "\n",
            "✅ Test Accuracy: 92.50%\n",
            "\n",
            "📊 Classification Report:\n",
            "                   precision    recall  f1-score   support\n",
            "\n",
            "           No_DR     0.9660    0.9950    0.9803       200\n",
            "            Mild     0.8489    0.9550    0.8988       200\n",
            "        Moderate     0.9337    0.9150    0.9242       200\n",
            "          Severe     0.9255    0.8700    0.8969       200\n",
            "Proliferative_DR     0.9622    0.8900    0.9247       200\n",
            "\n",
            "        accuracy                         0.9250      1000\n",
            "       macro avg     0.9273    0.9250    0.9250      1000\n",
            "    weighted avg     0.9273    0.9250    0.9250      1000\n",
            "\n"
          ]
        },
        {
          "output_type": "display_data",
          "data": {
            "text/plain": [
              "<Figure size 1000x800 with 2 Axes>"
            ],
            "image/png": "[encoded data removed]"
          },
          "metadata": {}
        }
      ],
      "source": [
        "import torch\n",
        "from tqdm import tqdm\n",
        "from sklearn.metrics import accuracy_score\n",
        "\n",
        "# Load the best model\n",
        "model.load_state_dict(torch.load(\"/content/drive/MyDrive/saved_models/model_epoch_9.pth\", map_location=device))\n",
        "model.eval()  # Set model to evaluation mode\n",
        "\n",
        "# Ensure CUDA memory is cleared\n",
        "torch.cuda.empty_cache()\n",
        "\n",
        "# Define test DataLoader (reduce num_workers)\n",
        "test_loader = DataLoader(test_dataset, batch_size=16, shuffle=False, num_workers=0)\n",
        "\n",
        "# Evaluate on Test Set\n",
        "print(\"\\n🔍 Evaluating on Test Set...\")\n",
        "all_preds, all_labels = [], []\n",
        "\n",
        "with torch.no_grad():\n",
        "    for images, labels in tqdm(test_loader, desc=\"Testing\"):\n",
        "        images, labels = images.to(device), labels.to(device)\n",
        "\n",
        "        # Forward pass\n",
        "        outputs = model(images)\n",
        "        _, preds = torch.max(outputs.logits, 1)\n",
        "\n",
        "        all_preds.extend(preds.cpu().numpy())\n",
        "        all_labels.extend(labels.cpu().numpy())\n",
        "\n",
        "# Compute Test Accuracy\n",
        "test_acc = accuracy_score(all_labels, all_preds)\n",
        "print(f\"\\n✅ Test Accuracy: {test_acc * 100:.2f}%\")\n",
        "\n",
        "\n",
        "from sklearn.metrics import classification_report, confusion_matrix\n",
        "import seaborn as sns\n",
        "import matplotlib.pyplot as plt\n",
        "import numpy as np\n",
        "\n",
        "# Get class names from dataset\n",
        "class_names = [\"No_DR\", \"Mild\", \"Moderate\", \"Severe\", \"Proliferative_DR\"]\n",
        "\n",
        "# 📝 Generate Classification Report\n",
        "report = classification_report(all_labels, all_preds, target_names=class_names, digits=4)\n",
        "print(\"\\n📊 Classification Report:\\n\", report)\n",
        "\n",
        "# 📉 Generate Normalized Confusion Matrix (row-wise percentage)\n",
        "conf_matrix = confusion_matrix(all_labels, all_preds)\n",
        "conf_matrix_percent = conf_matrix.astype('float') / conf_matrix.sum(axis=1)[:, np.newaxis] * 100\n",
        "\n",
        "# 🎨 Plot Normalized Confusion Matrix\n",
        "plt.figure(figsize=(10, 8))\n",
        "sns.heatmap(conf_matrix_percent, annot=True, fmt=\".2f\", cmap='Blues',\n",
        "            xticklabels=class_names, yticklabels=class_names)\n",
        "\n",
        "plt.xlabel(\"Predicted Labels\")\n",
        "plt.ylabel(\"True Labels\")\n",
        "plt.title(\"Confusion Matrix (in %)\")\n",
        "plt.show()\n",
        "\n",
        "\n"
      ]
    },
    {
      "cell_type": "code",
      "source": [
        "import torch\n",
        "import numpy as np\n",
        "import matplotlib.pyplot as plt\n",
        "import pandas as pd\n",
        "import os\n",
        "import glob\n",
        "from sklearn.metrics import roc_curve, auc\n",
        "from torchvision import transforms\n",
        "from torch.utils.data import Dataset, DataLoader\n",
        "from PIL import Image\n",
        "from transformers import ViTForImageClassification\n",
        "\n",
        "# Load device\n",
        "device = torch.device(\"cuda\" if torch.cuda.is_available() else \"cpu\")\n",
        "\n",
        "# Load model\n",
        "model_path = \"/content/drive/MyDrive/saved_models/best_model.pth\"\n",
        "model = ViTForImageClassification.from_pretrained('google/vit-base-patch16-224-in21k', num_labels=5)  # Adjust num_labels if needed\n",
        "model.load_state_dict(torch.load(model_path, map_location=device))\n",
        "model.to(device)\n",
        "model.eval()\n",
        "\n",
        "# Define transformations\n",
        "transform = transforms.Compose([\n",
        "    transforms.Resize((224, 224)),\n",
        "    transforms.ToTensor(),\n",
        "    transforms.Normalize(mean=[0.5, 0.5, 0.5], std=[0.5, 0.5, 0.5])\n",
        "])\n",
        "\n",
        "# Function to find image path ignoring extension\n",
        "def find_image_path(image_id, folder):\n",
        "    matching_files = glob.glob(os.path.join(folder, f\"{image_id}.*\"))  # Find any file with the same name (ignoring extension)\n",
        "    return matching_files[0] if matching_files else None  # Return first match or None\n",
        "\n",
        "# Load validation/test dataset\n",
        "image_folder = \"/content/drive/MyDrive/Fulldataset\"\n",
        "val_df = pd.read_csv(\"/content/drive/MyDrive/Full.csv\")  # Update CSV path if needed\n",
        "\n",
        "# Map filenames while ignoring extensions\n",
        "val_df['id_code'] = val_df['id_code'].apply(lambda x: find_image_path(x, image_folder))\n",
        "\n",
        "# Drop rows where no image was found\n",
        "val_df = val_df.dropna().reset_index(drop=True)\n",
        "\n",
        "# Define a dataset class\n",
        "class EyeDataset(Dataset):\n",
        "    def __init__(self, dataframe, transform=None):\n",
        "        self.dataframe = dataframe\n",
        "        self.transform = transform\n",
        "\n",
        "    def __len__(self):\n",
        "        return len(self.dataframe)\n",
        "\n",
        "    def __getitem__(self, idx):\n",
        "        img_path = self.dataframe.iloc[idx, 0]\n",
        "        label = int(self.dataframe.iloc[idx, 1])\n",
        "\n",
        "        image = Image.open(img_path).convert('RGB')\n",
        "        if self.transform:\n",
        "            image = self.transform(image)\n",
        "\n",
        "        return image, label\n",
        "\n",
        "# Create DataLoader\n",
        "val_dataset = EyeDataset(val_df, transform=transform)\n",
        "val_loader = DataLoader(val_dataset, batch_size=16, shuffle=False, num_workers=0)\n",
        "\n",
        "# Get model predictions\n",
        "all_probs = []\n",
        "all_labels = []\n",
        "\n",
        "with torch.no_grad():\n",
        "    for images, labels in val_loader:\n",
        "        images, labels = images.to(device), labels.numpy()\n",
        "        outputs = model(images)\n",
        "        probs = torch.nn.functional.softmax(outputs.logits, dim=1).cpu().numpy()  # Get probabilities\n",
        "\n",
        "        all_probs.extend(probs)\n",
        "        all_labels.extend(labels)\n",
        "\n",
        "all_probs = np.array(all_probs)\n",
        "all_labels = np.array(all_labels)\n",
        "\n",
        "# Compute ROC Curve\n",
        "plt.figure(figsize=(10, 8))\n",
        "for i in range(5):  # 5 classes (adjust if needed)\n",
        "    fpr, tpr, _ = roc_curve(all_labels == i, all_probs[:, i])\n",
        "    roc_auc = auc(fpr, tpr)\n",
        "    plt.plot(fpr, tpr, label=f'Class {i} (AUC = {roc_auc:.2f})')\n",
        "\n",
        "# Plot ROC curve\n",
        "plt.plot([0, 1], [0, 1], 'k--')  # Diagonal line\n",
        "plt.xlabel('False Positive Rate')\n",
        "plt.ylabel('True Positive Rate')\n",
        "plt.title('ROC Curve')\n",
        "plt.legend()\n",
        "plt.grid()\n",
        "plt.show()\n"
      ],
      "metadata": {
        "colab": {
          "base_uri": "https://localhost:8080/",
          "height": 877
        },
        "id": "T_hHaPbN0CSx",
        "outputId": "95654e9c-45fb-4fe3-d931-b8e4633d73de"
      },
      "execution_count": null,
      "outputs": [
        {
          "output_type": "stream",
          "name": "stderr",
          "text": [
            "/usr/local/lib/python3.11/dist-packages/huggingface_hub/utils/_auth.py:94: UserWarning: \n",
            "The secret `HF_TOKEN` does not exist in your Colab secrets.\n",
            "To authenticate with the Hugging Face Hub, create a token in your settings tab (https://huggingface.co/settings/tokens), set it as secret in your Google Colab and restart your session.\n",
            "You will be able to reuse this secret in all of your notebooks.\n",
            "Please note that authentication is recommended but still optional to access public models or datasets.\n",
            "  warnings.warn(\n",
            "Some weights of ViTForImageClassification were not initialized from the model checkpoint at google/vit-base-patch16-224-in21k and are newly initialized: ['classifier.bias', 'classifier.weight']\n",
            "You should probably TRAIN this model on a down-stream task to be able to use it for predictions and inference.\n"
          ]
        },
        {
          "output_type": "display_data",
          "data": {
            "text/plain": [
              "<Figure size 1000x800 with 1 Axes>"
            ],
            "image/png": "[encoded data removed]"
          },
          "metadata": {}
        }
      ]
    }
  ],
  "metadata": {
    "colab": {
      "provenance": [],
      "gpuType": "T4"
    },
    "kernelspec": {
      "display_name": "Python 3",
      "name": "python3"
    },
    "language_info": {
      "name": "python"
    },
    "accelerator": "GPU"
  },
  "nbformat": 4,
  "nbformat_minor": 0
}